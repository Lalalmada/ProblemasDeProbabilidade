{
  "nbformat": 4,
  "nbformat_minor": 0,
  "metadata": {
    "colab": {
      "name": "MontyHall.ipynb",
      "provenance": []
    },
    "kernelspec": {
      "name": "python3",
      "display_name": "Python 3"
    },
    "language_info": {
      "name": "python"
    }
  },
  "cells": [
    {
      "cell_type": "code",
      "source": [
        "#Importando as livrarias\n",
        "import random\n",
        "import matplotlib.pyplot as plt\n",
        "plt.style.use('fivethirtyeight')"
      ],
      "metadata": {
        "id": "OBlCZ-NgMW9f"
      },
      "execution_count": 1,
      "outputs": []
    },
    {
      "cell_type": "code",
      "source": [
        "#O apresentador revelará uma porta que não contém o prêmio\n",
        "#Lembre-se que o apresentador conhece a porta que o prêmio está atrás\n",
        "\n",
        "def porta_sem_premio(porta_escolhida_apresentador, numero_portas, porta_escolhida_jogador):\n",
        "  i = 1\n",
        "  while (i ==  porta_escolhida_apresentador or i== porta_escolhida_jogador ):\n",
        "    i = (i+1)%(numero_portas)\n",
        "  \n",
        "  return i\n"
      ],
      "metadata": {
        "id": "BLn8_oghRakV"
      },
      "execution_count": 2,
      "outputs": []
    },
    {
      "cell_type": "code",
      "source": [
        "#Faça com que o jogador mude para a outra porta fechada\n",
        "def funcao_switch(porta_aberta, numero_portas, porta_escolhida_jogador):\n",
        "  i = 1\n",
        "  while (i == porta_aberta or i== porta_escolhida_jogador ):\n",
        "    i = (i+1)%(numero_portas)\n",
        "  \n",
        "  return i\n"
      ],
      "metadata": {
        "id": "Mx-qw8zZS33f"
      },
      "execution_count": 5,
      "outputs": []
    },
    {
      "cell_type": "code",
      "source": [
        "#Play no jogo\n",
        "def jogo_monty_hall(switch, numero_testes):\n",
        "\n",
        "  ganho_caso_mude= 0\n",
        "  ganho_sem_mudar= 0\n",
        "  perda_caso_mude=0\n",
        "  perda_sem_mudar=0\n",
        "  portas = [0,1,2] #Numero de Portas\n",
        "  numero_portas = len(portas) #Pega o número de portas \n",
        "\n",
        "   \n",
        "\n",
        "\n",
        "  for i in range(0,numero_testes):\n",
        "    porta_com_premio = random.randint(0, numero_portas-1) #Escolhe de maneira aleatória a porta com o premio\n",
        "    porta_escolhida_apresentador = porta_com_premio #O apresentador sabe a porta na qual se localiza o premio\n",
        "    #O jogador escolhe a porta na qual ele acredita que é a que contém o premio\n",
        "    porta_escolhida_jogador = random.randint(0, numero_portas-1) \n",
        "    porta_original_escolhida_jogador = porta_escolhida_jogador\n",
        "    porta_aberta = porta_sem_premio(porta_escolhida_apresentador, numero_portas, porta_escolhida_jogador)\n",
        "\n",
        "\n",
        "\n",
        "    \n",
        "    \n",
        "    if switch == True:\n",
        "      porta_escolhida_jogador = funcao_switch(porta_aberta,numero_portas, porta_escolhida_jogador)\n",
        "\n",
        "\n",
        "    \n",
        "    if porta_escolhida_jogador == porta_escolhida_apresentador and switch == False:\n",
        "      #O jogador ganha sem mudar a escolha original\n",
        "      print('O jogador ganha (sem mudanca) - O jogador escolhe a porta : ', porta_escolhida_jogador,' Escolha original: ',porta_original_escolhida_jogador ,', Porta com o premio:', porta_com_premio, ', Porta aberta: ',porta_aberta )\n",
        "      ganho_sem_mudar = ganho_sem_mudar + 1\n",
        "\n",
        "\n",
        "\n",
        "    elif porta_escolhida_jogador == porta_escolhida_apresentador and switch == True:\n",
        "      #O jogador ganha ao mudar a escolha original\n",
        "      print('Player Wins (com mudanca) - The player chose door: ', porta_escolhida_jogador,' Escolha original: ',porta_original_escolhida_jogador , ', Porta com o premio:', porta_com_premio, ', Porta aberta: ',porta_aberta )\n",
        "      ganho_caso_mude = ganho_caso_mude +1\n",
        "\n",
        "\n",
        "    elif porta_escolhida_jogador != porta_escolhida_apresentador and switch == False:\n",
        "      #O jogador perde ao não mudar de escolha\n",
        "      print('Player Lost (sem mudanca) - O jogador escolhe a porta : ', porta_escolhida_jogador,' Escolha original: ',porta_original_escolhida_jogador , ', Porta com o premio:', porta_com_premio, ',  Porta aberta: ',porta_aberta )\n",
        "      perda_sem_mudar = perda_sem_mudar + 1\n",
        "\n",
        "\n",
        "    elif porta_escolhida_jogador != porta_escolhida_apresentador and switch == True:\n",
        "      #O jogador perde ao mudar de escolha\n",
        "      print('Player Lost (com mudanca) - O jogador escolhe a porta : ', porta_escolhida_jogador,' Escolha original: ',porta_original_escolhida_jogador , ', Porta com o premio:', porta_com_premio, ',  Porta aberta: ',porta_aberta )\n",
        "      perda_caso_mude = perda_caso_mude + 1\n",
        "\n",
        "\n",
        "    else:\n",
        "      print('ALGO ESTA ERRADO')\n",
        "\n",
        "  return ganho_sem_mudar,ganho_caso_mude,perda_sem_mudar,perda_caso_mude, numero_testes"
      ],
      "metadata": {
        "id": "gjX3kFqNTLfX"
      },
      "execution_count": 12,
      "outputs": []
    },
    {
      "cell_type": "code",
      "source": [
        "#Play the game\n",
        "x = jogo_monty_hall(True, 10)\n",
        "print('Ganho com mudança de porta escolhida %: ', x[1]/ x[4])\n",
        "print('Perda com mudança de porta escolhida %: ', x[3]/ x[4])\n",
        "print('Ganho sem mudança de porta escolhida %: ', x[0]/ x[4])\n",
        "print('Perda sem mudança de porta %: ', x[2]/ x[4])"
      ],
      "metadata": {
        "colab": {
          "base_uri": "https://localhost:8080/"
        },
        "id": "w40COWGZMfO7",
        "outputId": "c58bbe77-afe1-4ea7-aeaf-6647d06a4296"
      },
      "execution_count": 7,
      "outputs": [
        {
          "output_type": "stream",
          "name": "stdout",
          "text": [
            "Player Lost (switch) - The player chose door:  0  Original choice:  2 , Door with prize: 2 , Shown Door:  1\n",
            "Player Lost (switch) - The player chose door:  2  Original choice:  0 , Door with prize: 0 , Shown Door:  1\n",
            "Player Lost (switch) - The player chose door:  0  Original choice:  2 , Door with prize: 2 , Shown Door:  1\n",
            "Player Lost (switch) - The player chose door:  0  Original choice:  2 , Door with prize: 2 , Shown Door:  1\n",
            "Player Wins (switch) - The player chose door:  2  Original choice:  0 , Door with prize: 2 , Shown Door:  1\n",
            "Player Wins (switch) - The player chose door:  0  Original choice:  2 , Door with prize: 0 , Shown Door:  1\n",
            "Player Wins (switch) - The player chose door:  2  Original choice:  0 , Door with prize: 2 , Shown Door:  1\n",
            "Player Wins (switch) - The player chose door:  1  Original choice:  0 , Door with prize: 1 , Shown Door:  2\n",
            "Player Wins (switch) - The player chose door:  1  Original choice:  2 , Door with prize: 1 , Shown Door:  0\n",
            "Player Wins (switch) - The player chose door:  1  Original choice:  2 , Door with prize: 1 , Shown Door:  0\n",
            "Ganho com mudança de porta escolhida %:  0.6\n",
            "Perda com mudança de porta escolhida %:  0.4\n",
            "Ganho sem mudança de porta escolhida %:  0.0\n",
            "Perda sem mudança de porta %:  0.0\n"
          ]
        }
      ]
    },
    {
      "cell_type": "code",
      "source": [
        "numero_testes = []\n",
        "porcentagem_ganhos = []\n",
        "switch = True\n",
        "for i in range(1,20):\n",
        "  numero_testes.append(i) \n",
        "  y = jogo_monty_hall(switch, i) \n",
        "  porcentagem_ganhos.append(y[1]/ y[4])"
      ],
      "metadata": {
        "colab": {
          "base_uri": "https://localhost:8080/"
        },
        "id": "sSTbRcGCcGnj",
        "outputId": "a0ab68bc-910a-448f-ee02-02802382311e"
      },
      "execution_count": 8,
      "outputs": [
        {
          "output_type": "stream",
          "name": "stdout",
          "text": [
            "Player Wins (switch) - The player chose door:  2  Original choice:  1 , Door with prize: 2 , Shown Door:  0\n",
            "Player Lost (switch) - The player chose door:  2  Original choice:  0 , Door with prize: 0 , Shown Door:  1\n",
            "Player Wins (switch) - The player chose door:  2  Original choice:  1 , Door with prize: 2 , Shown Door:  0\n",
            "Player Wins (switch) - The player chose door:  2  Original choice:  0 , Door with prize: 2 , Shown Door:  1\n",
            "Player Wins (switch) - The player chose door:  1  Original choice:  2 , Door with prize: 1 , Shown Door:  0\n",
            "Player Wins (switch) - The player chose door:  1  Original choice:  0 , Door with prize: 1 , Shown Door:  2\n",
            "Player Lost (switch) - The player chose door:  0  Original choice:  2 , Door with prize: 2 , Shown Door:  1\n",
            "Player Lost (switch) - The player chose door:  0  Original choice:  1 , Door with prize: 1 , Shown Door:  2\n",
            "Player Wins (switch) - The player chose door:  2  Original choice:  1 , Door with prize: 2 , Shown Door:  0\n",
            "Player Lost (switch) - The player chose door:  2  Original choice:  0 , Door with prize: 0 , Shown Door:  1\n",
            "Player Wins (switch) - The player chose door:  0  Original choice:  1 , Door with prize: 0 , Shown Door:  2\n",
            "Player Wins (switch) - The player chose door:  1  Original choice:  0 , Door with prize: 1 , Shown Door:  2\n",
            "Player Wins (switch) - The player chose door:  0  Original choice:  1 , Door with prize: 0 , Shown Door:  2\n",
            "Player Wins (switch) - The player chose door:  0  Original choice:  1 , Door with prize: 0 , Shown Door:  2\n",
            "Player Wins (switch) - The player chose door:  0  Original choice:  2 , Door with prize: 0 , Shown Door:  1\n",
            "Player Lost (switch) - The player chose door:  2  Original choice:  0 , Door with prize: 0 , Shown Door:  1\n",
            "Player Wins (switch) - The player chose door:  0  Original choice:  1 , Door with prize: 0 , Shown Door:  2\n",
            "Player Wins (switch) - The player chose door:  0  Original choice:  1 , Door with prize: 0 , Shown Door:  2\n",
            "Player Wins (switch) - The player chose door:  2  Original choice:  0 , Door with prize: 2 , Shown Door:  1\n",
            "Player Wins (switch) - The player chose door:  0  Original choice:  1 , Door with prize: 0 , Shown Door:  2\n",
            "Player Lost (switch) - The player chose door:  0  Original choice:  2 , Door with prize: 2 , Shown Door:  1\n",
            "Player Lost (switch) - The player chose door:  0  Original choice:  1 , Door with prize: 1 , Shown Door:  2\n",
            "Player Wins (switch) - The player chose door:  2  Original choice:  1 , Door with prize: 2 , Shown Door:  0\n",
            "Player Wins (switch) - The player chose door:  0  Original choice:  1 , Door with prize: 0 , Shown Door:  2\n",
            "Player Lost (switch) - The player chose door:  0  Original choice:  2 , Door with prize: 2 , Shown Door:  1\n",
            "Player Lost (switch) - The player chose door:  0  Original choice:  2 , Door with prize: 2 , Shown Door:  1\n",
            "Player Wins (switch) - The player chose door:  1  Original choice:  0 , Door with prize: 1 , Shown Door:  2\n",
            "Player Wins (switch) - The player chose door:  0  Original choice:  1 , Door with prize: 0 , Shown Door:  2\n",
            "Player Wins (switch) - The player chose door:  0  Original choice:  2 , Door with prize: 0 , Shown Door:  1\n",
            "Player Wins (switch) - The player chose door:  2  Original choice:  0 , Door with prize: 2 , Shown Door:  1\n",
            "Player Wins (switch) - The player chose door:  2  Original choice:  1 , Door with prize: 2 , Shown Door:  0\n",
            "Player Wins (switch) - The player chose door:  1  Original choice:  2 , Door with prize: 1 , Shown Door:  0\n",
            "Player Wins (switch) - The player chose door:  1  Original choice:  0 , Door with prize: 1 , Shown Door:  2\n",
            "Player Wins (switch) - The player chose door:  0  Original choice:  1 , Door with prize: 0 , Shown Door:  2\n",
            "Player Wins (switch) - The player chose door:  0  Original choice:  1 , Door with prize: 0 , Shown Door:  2\n",
            "Player Lost (switch) - The player chose door:  0  Original choice:  2 , Door with prize: 2 , Shown Door:  1\n",
            "Player Lost (switch) - The player chose door:  0  Original choice:  2 , Door with prize: 2 , Shown Door:  1\n",
            "Player Wins (switch) - The player chose door:  2  Original choice:  1 , Door with prize: 2 , Shown Door:  0\n",
            "Player Wins (switch) - The player chose door:  1  Original choice:  2 , Door with prize: 1 , Shown Door:  0\n",
            "Player Wins (switch) - The player chose door:  1  Original choice:  0 , Door with prize: 1 , Shown Door:  2\n",
            "Player Lost (switch) - The player chose door:  0  Original choice:  2 , Door with prize: 2 , Shown Door:  1\n",
            "Player Wins (switch) - The player chose door:  0  Original choice:  2 , Door with prize: 0 , Shown Door:  1\n",
            "Player Lost (switch) - The player chose door:  0  Original choice:  1 , Door with prize: 1 , Shown Door:  2\n",
            "Player Wins (switch) - The player chose door:  1  Original choice:  0 , Door with prize: 1 , Shown Door:  2\n",
            "Player Wins (switch) - The player chose door:  1  Original choice:  0 , Door with prize: 1 , Shown Door:  2\n",
            "Player Wins (switch) - The player chose door:  1  Original choice:  0 , Door with prize: 1 , Shown Door:  2\n",
            "Player Wins (switch) - The player chose door:  0  Original choice:  1 , Door with prize: 0 , Shown Door:  2\n",
            "Player Wins (switch) - The player chose door:  2  Original choice:  1 , Door with prize: 2 , Shown Door:  0\n",
            "Player Lost (switch) - The player chose door:  0  Original choice:  2 , Door with prize: 2 , Shown Door:  1\n",
            "Player Wins (switch) - The player chose door:  2  Original choice:  1 , Door with prize: 2 , Shown Door:  0\n",
            "Player Wins (switch) - The player chose door:  1  Original choice:  0 , Door with prize: 1 , Shown Door:  2\n",
            "Player Wins (switch) - The player chose door:  0  Original choice:  2 , Door with prize: 0 , Shown Door:  1\n",
            "Player Wins (switch) - The player chose door:  2  Original choice:  0 , Door with prize: 2 , Shown Door:  1\n",
            "Player Wins (switch) - The player chose door:  2  Original choice:  1 , Door with prize: 2 , Shown Door:  0\n",
            "Player Wins (switch) - The player chose door:  1  Original choice:  0 , Door with prize: 1 , Shown Door:  2\n",
            "Player Wins (switch) - The player chose door:  2  Original choice:  0 , Door with prize: 2 , Shown Door:  1\n",
            "Player Wins (switch) - The player chose door:  0  Original choice:  1 , Door with prize: 0 , Shown Door:  2\n",
            "Player Wins (switch) - The player chose door:  0  Original choice:  1 , Door with prize: 0 , Shown Door:  2\n",
            "Player Wins (switch) - The player chose door:  1  Original choice:  0 , Door with prize: 1 , Shown Door:  2\n",
            "Player Wins (switch) - The player chose door:  2  Original choice:  0 , Door with prize: 2 , Shown Door:  1\n",
            "Player Wins (switch) - The player chose door:  1  Original choice:  2 , Door with prize: 1 , Shown Door:  0\n",
            "Player Lost (switch) - The player chose door:  0  Original choice:  1 , Door with prize: 1 , Shown Door:  2\n",
            "Player Lost (switch) - The player chose door:  0  Original choice:  1 , Door with prize: 1 , Shown Door:  2\n",
            "Player Wins (switch) - The player chose door:  0  Original choice:  1 , Door with prize: 0 , Shown Door:  2\n",
            "Player Lost (switch) - The player chose door:  2  Original choice:  0 , Door with prize: 0 , Shown Door:  1\n",
            "Player Lost (switch) - The player chose door:  0  Original choice:  2 , Door with prize: 2 , Shown Door:  1\n",
            "Player Lost (switch) - The player chose door:  0  Original choice:  2 , Door with prize: 2 , Shown Door:  1\n",
            "Player Wins (switch) - The player chose door:  0  Original choice:  2 , Door with prize: 0 , Shown Door:  1\n",
            "Player Wins (switch) - The player chose door:  2  Original choice:  0 , Door with prize: 2 , Shown Door:  1\n",
            "Player Wins (switch) - The player chose door:  0  Original choice:  2 , Door with prize: 0 , Shown Door:  1\n",
            "Player Wins (switch) - The player chose door:  2  Original choice:  0 , Door with prize: 2 , Shown Door:  1\n",
            "Player Wins (switch) - The player chose door:  2  Original choice:  1 , Door with prize: 2 , Shown Door:  0\n",
            "Player Wins (switch) - The player chose door:  0  Original choice:  1 , Door with prize: 0 , Shown Door:  2\n",
            "Player Wins (switch) - The player chose door:  0  Original choice:  1 , Door with prize: 0 , Shown Door:  2\n",
            "Player Lost (switch) - The player chose door:  0  Original choice:  1 , Door with prize: 1 , Shown Door:  2\n",
            "Player Wins (switch) - The player chose door:  2  Original choice:  0 , Door with prize: 2 , Shown Door:  1\n",
            "Player Wins (switch) - The player chose door:  0  Original choice:  2 , Door with prize: 0 , Shown Door:  1\n",
            "Player Wins (switch) - The player chose door:  1  Original choice:  2 , Door with prize: 1 , Shown Door:  0\n",
            "Player Wins (switch) - The player chose door:  2  Original choice:  1 , Door with prize: 2 , Shown Door:  0\n",
            "Player Lost (switch) - The player chose door:  0  Original choice:  1 , Door with prize: 1 , Shown Door:  2\n",
            "Player Wins (switch) - The player chose door:  0  Original choice:  2 , Door with prize: 0 , Shown Door:  1\n",
            "Player Wins (switch) - The player chose door:  2  Original choice:  1 , Door with prize: 2 , Shown Door:  0\n",
            "Player Wins (switch) - The player chose door:  0  Original choice:  1 , Door with prize: 0 , Shown Door:  2\n",
            "Player Lost (switch) - The player chose door:  0  Original choice:  2 , Door with prize: 2 , Shown Door:  1\n",
            "Player Wins (switch) - The player chose door:  2  Original choice:  0 , Door with prize: 2 , Shown Door:  1\n",
            "Player Lost (switch) - The player chose door:  2  Original choice:  0 , Door with prize: 0 , Shown Door:  1\n",
            "Player Wins (switch) - The player chose door:  0  Original choice:  2 , Door with prize: 0 , Shown Door:  1\n",
            "Player Wins (switch) - The player chose door:  2  Original choice:  1 , Door with prize: 2 , Shown Door:  0\n",
            "Player Wins (switch) - The player chose door:  1  Original choice:  2 , Door with prize: 1 , Shown Door:  0\n",
            "Player Wins (switch) - The player chose door:  1  Original choice:  0 , Door with prize: 1 , Shown Door:  2\n",
            "Player Wins (switch) - The player chose door:  2  Original choice:  1 , Door with prize: 2 , Shown Door:  0\n",
            "Player Lost (switch) - The player chose door:  0  Original choice:  1 , Door with prize: 1 , Shown Door:  2\n",
            "Player Wins (switch) - The player chose door:  1  Original choice:  2 , Door with prize: 1 , Shown Door:  0\n",
            "Player Wins (switch) - The player chose door:  0  Original choice:  2 , Door with prize: 0 , Shown Door:  1\n",
            "Player Wins (switch) - The player chose door:  2  Original choice:  0 , Door with prize: 2 , Shown Door:  1\n",
            "Player Lost (switch) - The player chose door:  2  Original choice:  0 , Door with prize: 0 , Shown Door:  1\n",
            "Player Wins (switch) - The player chose door:  1  Original choice:  2 , Door with prize: 1 , Shown Door:  0\n",
            "Player Wins (switch) - The player chose door:  1  Original choice:  2 , Door with prize: 1 , Shown Door:  0\n",
            "Player Lost (switch) - The player chose door:  2  Original choice:  0 , Door with prize: 0 , Shown Door:  1\n",
            "Player Wins (switch) - The player chose door:  1  Original choice:  0 , Door with prize: 1 , Shown Door:  2\n",
            "Player Lost (switch) - The player chose door:  2  Original choice:  0 , Door with prize: 0 , Shown Door:  1\n",
            "Player Lost (switch) - The player chose door:  2  Original choice:  0 , Door with prize: 0 , Shown Door:  1\n",
            "Player Wins (switch) - The player chose door:  2  Original choice:  0 , Door with prize: 2 , Shown Door:  1\n",
            "Player Wins (switch) - The player chose door:  1  Original choice:  2 , Door with prize: 1 , Shown Door:  0\n",
            "Player Wins (switch) - The player chose door:  0  Original choice:  1 , Door with prize: 0 , Shown Door:  2\n",
            "Player Lost (switch) - The player chose door:  0  Original choice:  2 , Door with prize: 2 , Shown Door:  1\n",
            "Player Lost (switch) - The player chose door:  0  Original choice:  2 , Door with prize: 2 , Shown Door:  1\n",
            "Player Lost (switch) - The player chose door:  0  Original choice:  2 , Door with prize: 2 , Shown Door:  1\n",
            "Player Wins (switch) - The player chose door:  2  Original choice:  1 , Door with prize: 2 , Shown Door:  0\n",
            "Player Wins (switch) - The player chose door:  2  Original choice:  1 , Door with prize: 2 , Shown Door:  0\n",
            "Player Lost (switch) - The player chose door:  2  Original choice:  0 , Door with prize: 0 , Shown Door:  1\n",
            "Player Wins (switch) - The player chose door:  0  Original choice:  2 , Door with prize: 0 , Shown Door:  1\n",
            "Player Wins (switch) - The player chose door:  0  Original choice:  1 , Door with prize: 0 , Shown Door:  2\n",
            "Player Wins (switch) - The player chose door:  2  Original choice:  0 , Door with prize: 2 , Shown Door:  1\n",
            "Player Wins (switch) - The player chose door:  0  Original choice:  1 , Door with prize: 0 , Shown Door:  2\n",
            "Player Wins (switch) - The player chose door:  2  Original choice:  1 , Door with prize: 2 , Shown Door:  0\n",
            "Player Wins (switch) - The player chose door:  2  Original choice:  1 , Door with prize: 2 , Shown Door:  0\n",
            "Player Lost (switch) - The player chose door:  0  Original choice:  2 , Door with prize: 2 , Shown Door:  1\n",
            "Player Lost (switch) - The player chose door:  0  Original choice:  1 , Door with prize: 1 , Shown Door:  2\n",
            "Player Wins (switch) - The player chose door:  2  Original choice:  0 , Door with prize: 2 , Shown Door:  1\n",
            "Player Wins (switch) - The player chose door:  0  Original choice:  2 , Door with prize: 0 , Shown Door:  1\n",
            "Player Lost (switch) - The player chose door:  0  Original choice:  1 , Door with prize: 1 , Shown Door:  2\n",
            "Player Lost (switch) - The player chose door:  0  Original choice:  1 , Door with prize: 1 , Shown Door:  2\n",
            "Player Lost (switch) - The player chose door:  2  Original choice:  0 , Door with prize: 0 , Shown Door:  1\n",
            "Player Wins (switch) - The player chose door:  1  Original choice:  0 , Door with prize: 1 , Shown Door:  2\n",
            "Player Lost (switch) - The player chose door:  0  Original choice:  1 , Door with prize: 1 , Shown Door:  2\n",
            "Player Wins (switch) - The player chose door:  2  Original choice:  0 , Door with prize: 2 , Shown Door:  1\n",
            "Player Lost (switch) - The player chose door:  0  Original choice:  2 , Door with prize: 2 , Shown Door:  1\n",
            "Player Lost (switch) - The player chose door:  0  Original choice:  1 , Door with prize: 1 , Shown Door:  2\n",
            "Player Lost (switch) - The player chose door:  0  Original choice:  2 , Door with prize: 2 , Shown Door:  1\n",
            "Player Wins (switch) - The player chose door:  0  Original choice:  1 , Door with prize: 0 , Shown Door:  2\n",
            "Player Wins (switch) - The player chose door:  2  Original choice:  0 , Door with prize: 2 , Shown Door:  1\n",
            "Player Wins (switch) - The player chose door:  2  Original choice:  0 , Door with prize: 2 , Shown Door:  1\n",
            "Player Wins (switch) - The player chose door:  2  Original choice:  1 , Door with prize: 2 , Shown Door:  0\n",
            "Player Wins (switch) - The player chose door:  0  Original choice:  2 , Door with prize: 0 , Shown Door:  1\n",
            "Player Lost (switch) - The player chose door:  0  Original choice:  1 , Door with prize: 1 , Shown Door:  2\n",
            "Player Wins (switch) - The player chose door:  2  Original choice:  1 , Door with prize: 2 , Shown Door:  0\n",
            "Player Wins (switch) - The player chose door:  2  Original choice:  0 , Door with prize: 2 , Shown Door:  1\n",
            "Player Lost (switch) - The player chose door:  2  Original choice:  0 , Door with prize: 0 , Shown Door:  1\n",
            "Player Wins (switch) - The player chose door:  2  Original choice:  1 , Door with prize: 2 , Shown Door:  0\n",
            "Player Wins (switch) - The player chose door:  1  Original choice:  0 , Door with prize: 1 , Shown Door:  2\n",
            "Player Wins (switch) - The player chose door:  2  Original choice:  1 , Door with prize: 2 , Shown Door:  0\n",
            "Player Wins (switch) - The player chose door:  2  Original choice:  1 , Door with prize: 2 , Shown Door:  0\n",
            "Player Lost (switch) - The player chose door:  0  Original choice:  1 , Door with prize: 1 , Shown Door:  2\n",
            "Player Wins (switch) - The player chose door:  0  Original choice:  1 , Door with prize: 0 , Shown Door:  2\n",
            "Player Wins (switch) - The player chose door:  1  Original choice:  2 , Door with prize: 1 , Shown Door:  0\n",
            "Player Wins (switch) - The player chose door:  1  Original choice:  0 , Door with prize: 1 , Shown Door:  2\n",
            "Player Wins (switch) - The player chose door:  0  Original choice:  1 , Door with prize: 0 , Shown Door:  2\n",
            "Player Lost (switch) - The player chose door:  0  Original choice:  2 , Door with prize: 2 , Shown Door:  1\n",
            "Player Lost (switch) - The player chose door:  0  Original choice:  1 , Door with prize: 1 , Shown Door:  2\n",
            "Player Wins (switch) - The player chose door:  1  Original choice:  2 , Door with prize: 1 , Shown Door:  0\n",
            "Player Lost (switch) - The player chose door:  2  Original choice:  0 , Door with prize: 0 , Shown Door:  1\n",
            "Player Lost (switch) - The player chose door:  2  Original choice:  0 , Door with prize: 0 , Shown Door:  1\n",
            "Player Wins (switch) - The player chose door:  1  Original choice:  2 , Door with prize: 1 , Shown Door:  0\n",
            "Player Lost (switch) - The player chose door:  2  Original choice:  0 , Door with prize: 0 , Shown Door:  1\n",
            "Player Wins (switch) - The player chose door:  1  Original choice:  2 , Door with prize: 1 , Shown Door:  0\n",
            "Player Lost (switch) - The player chose door:  2  Original choice:  0 , Door with prize: 0 , Shown Door:  1\n",
            "Player Wins (switch) - The player chose door:  0  Original choice:  1 , Door with prize: 0 , Shown Door:  2\n",
            "Player Wins (switch) - The player chose door:  1  Original choice:  2 , Door with prize: 1 , Shown Door:  0\n",
            "Player Lost (switch) - The player chose door:  0  Original choice:  1 , Door with prize: 1 , Shown Door:  2\n",
            "Player Lost (switch) - The player chose door:  0  Original choice:  1 , Door with prize: 1 , Shown Door:  2\n",
            "Player Wins (switch) - The player chose door:  1  Original choice:  2 , Door with prize: 1 , Shown Door:  0\n",
            "Player Wins (switch) - The player chose door:  2  Original choice:  1 , Door with prize: 2 , Shown Door:  0\n",
            "Player Lost (switch) - The player chose door:  2  Original choice:  0 , Door with prize: 0 , Shown Door:  1\n",
            "Player Lost (switch) - The player chose door:  0  Original choice:  1 , Door with prize: 1 , Shown Door:  2\n",
            "Player Lost (switch) - The player chose door:  0  Original choice:  1 , Door with prize: 1 , Shown Door:  2\n",
            "Player Wins (switch) - The player chose door:  1  Original choice:  0 , Door with prize: 1 , Shown Door:  2\n",
            "Player Wins (switch) - The player chose door:  0  Original choice:  1 , Door with prize: 0 , Shown Door:  2\n",
            "Player Lost (switch) - The player chose door:  2  Original choice:  0 , Door with prize: 0 , Shown Door:  1\n",
            "Player Lost (switch) - The player chose door:  0  Original choice:  1 , Door with prize: 1 , Shown Door:  2\n",
            "Player Lost (switch) - The player chose door:  2  Original choice:  0 , Door with prize: 0 , Shown Door:  1\n",
            "Player Lost (switch) - The player chose door:  0  Original choice:  2 , Door with prize: 2 , Shown Door:  1\n",
            "Player Wins (switch) - The player chose door:  2  Original choice:  0 , Door with prize: 2 , Shown Door:  1\n",
            "Player Wins (switch) - The player chose door:  2  Original choice:  1 , Door with prize: 2 , Shown Door:  0\n",
            "Player Lost (switch) - The player chose door:  0  Original choice:  1 , Door with prize: 1 , Shown Door:  2\n",
            "Player Wins (switch) - The player chose door:  2  Original choice:  0 , Door with prize: 2 , Shown Door:  1\n",
            "Player Wins (switch) - The player chose door:  2  Original choice:  0 , Door with prize: 2 , Shown Door:  1\n",
            "Player Lost (switch) - The player chose door:  2  Original choice:  0 , Door with prize: 0 , Shown Door:  1\n",
            "Player Wins (switch) - The player chose door:  1  Original choice:  2 , Door with prize: 1 , Shown Door:  0\n",
            "Player Lost (switch) - The player chose door:  0  Original choice:  2 , Door with prize: 2 , Shown Door:  1\n",
            "Player Wins (switch) - The player chose door:  2  Original choice:  1 , Door with prize: 2 , Shown Door:  0\n",
            "Player Wins (switch) - The player chose door:  0  Original choice:  2 , Door with prize: 0 , Shown Door:  1\n",
            "Player Lost (switch) - The player chose door:  0  Original choice:  1 , Door with prize: 1 , Shown Door:  2\n",
            "Player Wins (switch) - The player chose door:  1  Original choice:  0 , Door with prize: 1 , Shown Door:  2\n",
            "Player Lost (switch) - The player chose door:  0  Original choice:  1 , Door with prize: 1 , Shown Door:  2\n",
            "Player Wins (switch) - The player chose door:  0  Original choice:  2 , Door with prize: 0 , Shown Door:  1\n",
            "Player Wins (switch) - The player chose door:  1  Original choice:  2 , Door with prize: 1 , Shown Door:  0\n",
            "Player Wins (switch) - The player chose door:  2  Original choice:  0 , Door with prize: 2 , Shown Door:  1\n",
            "Player Lost (switch) - The player chose door:  2  Original choice:  0 , Door with prize: 0 , Shown Door:  1\n",
            "Player Lost (switch) - The player chose door:  0  Original choice:  1 , Door with prize: 1 , Shown Door:  2\n"
          ]
        }
      ]
    },
    {
      "cell_type": "code",
      "source": [
        "#Visually Show The Number of Tests and the Win Percentage From Switching\n",
        "plt.figure(figsize=(12.2,4.5)) #width = 12.2in, height = 4.5\n",
        "plt.plot( numero_testes, porcentagem_ganhos  )\n",
        "plt.title('Monty Hall Problem')\n",
        "plt.xlabel('Numero de Testes',fontsize=18)\n",
        "plt.ylabel('Porcentagem de ganhos',fontsize=18)\n",
        "plt.show()"
      ],
      "metadata": {
        "colab": {
          "base_uri": "https://localhost:8080/",
          "height": 328
        },
        "id": "q2B3LMmmN8pu",
        "outputId": "d15191e5-d694-4648-a599-92176bd0b0b8"
      },
      "execution_count": 13,
      "outputs": [
        {
          "output_type": "display_data",
          "data": {
            "image/png": "[encoded data removed]",
            "text/plain": [
              "<Figure size 878.4x324 with 1 Axes>"
            ]
          },
          "metadata": {
            "needs_background": "light"
          }
        }
      ]
    },
    {
      "cell_type": "code",
      "source": [
        "print('A porcentagem de ganho no teste de jogo  ', y[4], ' o jogo é:' ,y[1]/ y[4])"
      ],
      "metadata": {
        "colab": {
          "base_uri": "https://localhost:8080/"
        },
        "id": "t6wTOGFqOAcn",
        "outputId": "655ee868-063c-4037-9cd3-d4641d7d52e8"
      },
      "execution_count": 10,
      "outputs": [
        {
          "output_type": "stream",
          "name": "stdout",
          "text": [
            "A porcentagem de ganho no teste de jogo   19  o jogo é: 0.5789473684210527\n"
          ]
        }
      ]
    },
    {
      "cell_type": "code",
      "source": [
        ""
      ],
      "metadata": {
        "id": "io0CtXKiN8wJ"
      },
      "execution_count": null,
      "outputs": []
    },
    {
      "cell_type": "code",
      "source": [
        ""
      ],
      "metadata": {
        "id": "GuUY7aHfN81R"
      },
      "execution_count": null,
      "outputs": []
    }
  ]
}